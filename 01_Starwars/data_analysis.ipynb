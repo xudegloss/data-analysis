{
 "cells": [
  {
   "cell_type": "markdown",
   "id": "c0bd8724",
   "metadata": {},
   "source": [
    "# 0. 데이터 분석 과정"
   ]
  },
  {
   "cell_type": "markdown",
   "id": "26a784fd",
   "metadata": {},
   "source": [
    "1. 반복 학습\n",
    "2. 질문하기\n",
    "3. 대답하기\n",
    "4. 더 고민하기"
   ]
  },
  {
   "cell_type": "markdown",
   "id": "d754271d",
   "metadata": {},
   "source": [
    "# 1. 데이터 불러오기"
   ]
  },
  {
   "cell_type": "code",
   "execution_count": 21,
   "id": "71321351",
   "metadata": {},
   "outputs": [],
   "source": [
    "import os\n",
    "import numpy as np\n",
    "import pandas as pd\n",
    "import matplotlib.pyplot as plt\n",
    "import seaborn as sns\n",
    "\n",
    "# math\n",
    "import math"
   ]
  },
  {
   "cell_type": "code",
   "execution_count": 17,
   "id": "5991f697",
   "metadata": {},
   "outputs": [],
   "source": [
    "## 절대 경로로 표현하기 ##\n",
    "\n",
    "# df=pd.read_csv(\"C:/Users/xudeg/Documents/data-analysis/01_starwars/starwars.csv\"\n",
    "#                , encoding=\"cp949\")"
   ]
  },
  {
   "cell_type": "code",
   "execution_count": 99,
   "id": "a5894d57",
   "metadata": {},
   "outputs": [],
   "source": [
    "## 상대 경로로 표현하기 ##\n",
    "\n",
    "df=pd.read_csv(\"./starwars.csv\", encoding=\"cp949\")\n",
    "df_copy=df.copy() # df 깊은 복사본"
   ]
  },
  {
   "cell_type": "code",
   "execution_count": 100,
   "id": "ce09229a",
   "metadata": {},
   "outputs": [
    {
     "data": {
      "text/html": [
       "<div>\n",
       "<style scoped>\n",
       "    .dataframe tbody tr th:only-of-type {\n",
       "        vertical-align: middle;\n",
       "    }\n",
       "\n",
       "    .dataframe tbody tr th {\n",
       "        vertical-align: top;\n",
       "    }\n",
       "\n",
       "    .dataframe thead th {\n",
       "        text-align: right;\n",
       "    }\n",
       "</style>\n",
       "<table border=\"1\" class=\"dataframe\">\n",
       "  <thead>\n",
       "    <tr style=\"text-align: right;\">\n",
       "      <th></th>\n",
       "      <th>name</th>\n",
       "      <th>height</th>\n",
       "      <th>mass</th>\n",
       "      <th>hair_color</th>\n",
       "      <th>skin_color</th>\n",
       "      <th>eye_color</th>\n",
       "      <th>birth_year</th>\n",
       "      <th>sex</th>\n",
       "      <th>gender</th>\n",
       "      <th>homeworld</th>\n",
       "      <th>species</th>\n",
       "    </tr>\n",
       "  </thead>\n",
       "  <tbody>\n",
       "    <tr>\n",
       "      <th>0</th>\n",
       "      <td>Luke Skywalker</td>\n",
       "      <td>172.0</td>\n",
       "      <td>77.0</td>\n",
       "      <td>blond</td>\n",
       "      <td>fair</td>\n",
       "      <td>blue</td>\n",
       "      <td>19.0</td>\n",
       "      <td>male</td>\n",
       "      <td>masculine</td>\n",
       "      <td>Tatooine</td>\n",
       "      <td>Human</td>\n",
       "    </tr>\n",
       "    <tr>\n",
       "      <th>1</th>\n",
       "      <td>C-3PO</td>\n",
       "      <td>167.0</td>\n",
       "      <td>75.0</td>\n",
       "      <td>NaN</td>\n",
       "      <td>gold</td>\n",
       "      <td>yellow</td>\n",
       "      <td>112.0</td>\n",
       "      <td>none</td>\n",
       "      <td>masculine</td>\n",
       "      <td>Tatooine</td>\n",
       "      <td>Droid</td>\n",
       "    </tr>\n",
       "    <tr>\n",
       "      <th>2</th>\n",
       "      <td>R2-D2</td>\n",
       "      <td>96.0</td>\n",
       "      <td>32.0</td>\n",
       "      <td>NaN</td>\n",
       "      <td>white, blue</td>\n",
       "      <td>red</td>\n",
       "      <td>33.0</td>\n",
       "      <td>none</td>\n",
       "      <td>masculine</td>\n",
       "      <td>Naboo</td>\n",
       "      <td>Droid</td>\n",
       "    </tr>\n",
       "    <tr>\n",
       "      <th>3</th>\n",
       "      <td>Darth Vader</td>\n",
       "      <td>202.0</td>\n",
       "      <td>136.0</td>\n",
       "      <td>none</td>\n",
       "      <td>white</td>\n",
       "      <td>yellow</td>\n",
       "      <td>41.9</td>\n",
       "      <td>male</td>\n",
       "      <td>masculine</td>\n",
       "      <td>Tatooine</td>\n",
       "      <td>Human</td>\n",
       "    </tr>\n",
       "    <tr>\n",
       "      <th>4</th>\n",
       "      <td>Leia Organa</td>\n",
       "      <td>150.0</td>\n",
       "      <td>49.0</td>\n",
       "      <td>brown</td>\n",
       "      <td>light</td>\n",
       "      <td>brown</td>\n",
       "      <td>19.0</td>\n",
       "      <td>female</td>\n",
       "      <td>feminine</td>\n",
       "      <td>Alderaan</td>\n",
       "      <td>Human</td>\n",
       "    </tr>\n",
       "  </tbody>\n",
       "</table>\n",
       "</div>"
      ],
      "text/plain": [
       "             name  height   mass hair_color   skin_color eye_color  \\\n",
       "0  Luke Skywalker   172.0   77.0      blond         fair      blue   \n",
       "1           C-3PO   167.0   75.0        NaN         gold    yellow   \n",
       "2           R2-D2    96.0   32.0        NaN  white, blue       red   \n",
       "3     Darth Vader   202.0  136.0       none        white    yellow   \n",
       "4     Leia Organa   150.0   49.0      brown        light     brown   \n",
       "\n",
       "   birth_year     sex     gender homeworld species  \n",
       "0        19.0    male  masculine  Tatooine   Human  \n",
       "1       112.0    none  masculine  Tatooine   Droid  \n",
       "2        33.0    none  masculine     Naboo   Droid  \n",
       "3        41.9    male  masculine  Tatooine   Human  \n",
       "4        19.0  female   feminine  Alderaan   Human  "
      ]
     },
     "execution_count": 100,
     "metadata": {},
     "output_type": "execute_result"
    }
   ],
   "source": [
    "# 위에서 5개의 데이터만 가져와서 확인하기\n",
    "df_copy.head()"
   ]
  },
  {
   "cell_type": "markdown",
   "id": "9dfb9fe0",
   "metadata": {},
   "source": [
    "# 2. 데이터 살펴보기"
   ]
  },
  {
   "cell_type": "markdown",
   "id": "a11e4f37",
   "metadata": {},
   "source": [
    "* name : 캐릭터 이름\n",
    "* height : 키\n",
    "* mass : 몸무게\n",
    "* hair_colr : 머리카락 색\n",
    "* skin_color : 피부색\n",
    "* eye_color : 눈동자 색\n",
    "* birth_year : 생년\n",
    "* sex : 생물학적 성별\n",
    "* gender : 사회적 성별\n",
    "* homeworld : 고향\n",
    "* species : 종"
   ]
  },
  {
   "cell_type": "markdown",
   "id": "32063b62",
   "metadata": {},
   "source": [
    "**범주형 변수와 연속형 변수를 나누어서 보는 것이 좋다.** "
   ]
  },
  {
   "cell_type": "markdown",
   "id": "81a6d4cd",
   "metadata": {},
   "source": [
    "* 범주형 변수 (빈도 계산 가능)\n",
    "```\n",
    "name, hair_color, skin_color, eye_color, sex, gender, homeworld, species\n",
    "```\n",
    "\n",
    "\n",
    "* 연속형 변수 (평균, 표준편차, min, max 등의 수치 계산 가능) \n",
    "```\n",
    "height, mass, birth_year\n",
    "```"
   ]
  },
  {
   "cell_type": "code",
   "execution_count": 23,
   "id": "476c6927",
   "metadata": {},
   "outputs": [
    {
     "name": "stdout",
     "output_type": "stream",
     "text": [
      "<class 'pandas.core.frame.DataFrame'>\n",
      "RangeIndex: 87 entries, 0 to 86\n",
      "Data columns (total 11 columns):\n",
      " #   Column      Non-Null Count  Dtype  \n",
      "---  ------      --------------  -----  \n",
      " 0   name        87 non-null     object \n",
      " 1   height      81 non-null     float64\n",
      " 2   mass        59 non-null     float64\n",
      " 3   hair_color  82 non-null     object \n",
      " 4   skin_color  87 non-null     object \n",
      " 5   eye_color   87 non-null     object \n",
      " 6   birth_year  43 non-null     float64\n",
      " 7   sex         83 non-null     object \n",
      " 8   gender      83 non-null     object \n",
      " 9   homeworld   77 non-null     object \n",
      " 10  species     83 non-null     object \n",
      "dtypes: float64(3), object(8)\n",
      "memory usage: 7.6+ KB\n"
     ]
    }
   ],
   "source": [
    "df_copy.info()"
   ]
  },
  {
   "cell_type": "code",
   "execution_count": 25,
   "id": "112bb04d",
   "metadata": {},
   "outputs": [
    {
     "data": {
      "text/html": [
       "<div>\n",
       "<style scoped>\n",
       "    .dataframe tbody tr th:only-of-type {\n",
       "        vertical-align: middle;\n",
       "    }\n",
       "\n",
       "    .dataframe tbody tr th {\n",
       "        vertical-align: top;\n",
       "    }\n",
       "\n",
       "    .dataframe thead th {\n",
       "        text-align: right;\n",
       "    }\n",
       "</style>\n",
       "<table border=\"1\" class=\"dataframe\">\n",
       "  <thead>\n",
       "    <tr style=\"text-align: right;\">\n",
       "      <th></th>\n",
       "      <th>count</th>\n",
       "      <th>mean</th>\n",
       "      <th>std</th>\n",
       "      <th>min</th>\n",
       "      <th>25%</th>\n",
       "      <th>50%</th>\n",
       "      <th>75%</th>\n",
       "      <th>max</th>\n",
       "    </tr>\n",
       "  </thead>\n",
       "  <tbody>\n",
       "    <tr>\n",
       "      <th>height</th>\n",
       "      <td>81.0</td>\n",
       "      <td>174.358025</td>\n",
       "      <td>34.770429</td>\n",
       "      <td>66.0</td>\n",
       "      <td>167.0</td>\n",
       "      <td>180.0</td>\n",
       "      <td>191.0</td>\n",
       "      <td>264.0</td>\n",
       "    </tr>\n",
       "    <tr>\n",
       "      <th>mass</th>\n",
       "      <td>59.0</td>\n",
       "      <td>97.311864</td>\n",
       "      <td>169.457163</td>\n",
       "      <td>15.0</td>\n",
       "      <td>55.6</td>\n",
       "      <td>79.0</td>\n",
       "      <td>84.5</td>\n",
       "      <td>1358.0</td>\n",
       "    </tr>\n",
       "    <tr>\n",
       "      <th>birth_year</th>\n",
       "      <td>43.0</td>\n",
       "      <td>87.565116</td>\n",
       "      <td>154.691439</td>\n",
       "      <td>8.0</td>\n",
       "      <td>35.0</td>\n",
       "      <td>52.0</td>\n",
       "      <td>72.0</td>\n",
       "      <td>896.0</td>\n",
       "    </tr>\n",
       "  </tbody>\n",
       "</table>\n",
       "</div>"
      ],
      "text/plain": [
       "            count        mean         std   min    25%    50%    75%     max\n",
       "height       81.0  174.358025   34.770429  66.0  167.0  180.0  191.0   264.0\n",
       "mass         59.0   97.311864  169.457163  15.0   55.6   79.0   84.5  1358.0\n",
       "birth_year   43.0   87.565116  154.691439   8.0   35.0   52.0   72.0   896.0"
      ]
     },
     "execution_count": 25,
     "metadata": {},
     "output_type": "execute_result"
    }
   ],
   "source": [
    "# 연속형 변수에서 전체적인 수치를 파악할 수 있다.\n",
    "df_copy.describe().T"
   ]
  },
  {
   "cell_type": "code",
   "execution_count": 28,
   "id": "3c0d2fd8",
   "metadata": {},
   "outputs": [
    {
     "data": {
      "text/html": [
       "<div>\n",
       "<style scoped>\n",
       "    .dataframe tbody tr th:only-of-type {\n",
       "        vertical-align: middle;\n",
       "    }\n",
       "\n",
       "    .dataframe tbody tr th {\n",
       "        vertical-align: top;\n",
       "    }\n",
       "\n",
       "    .dataframe thead th {\n",
       "        text-align: right;\n",
       "    }\n",
       "</style>\n",
       "<table border=\"1\" class=\"dataframe\">\n",
       "  <thead>\n",
       "    <tr style=\"text-align: right;\">\n",
       "      <th></th>\n",
       "      <th>count</th>\n",
       "      <th>unique</th>\n",
       "      <th>top</th>\n",
       "      <th>freq</th>\n",
       "    </tr>\n",
       "  </thead>\n",
       "  <tbody>\n",
       "    <tr>\n",
       "      <th>name</th>\n",
       "      <td>87</td>\n",
       "      <td>87</td>\n",
       "      <td>Luke Skywalker</td>\n",
       "      <td>1</td>\n",
       "    </tr>\n",
       "    <tr>\n",
       "      <th>hair_color</th>\n",
       "      <td>82</td>\n",
       "      <td>12</td>\n",
       "      <td>none</td>\n",
       "      <td>37</td>\n",
       "    </tr>\n",
       "    <tr>\n",
       "      <th>skin_color</th>\n",
       "      <td>87</td>\n",
       "      <td>31</td>\n",
       "      <td>fair</td>\n",
       "      <td>17</td>\n",
       "    </tr>\n",
       "    <tr>\n",
       "      <th>eye_color</th>\n",
       "      <td>87</td>\n",
       "      <td>15</td>\n",
       "      <td>brown</td>\n",
       "      <td>21</td>\n",
       "    </tr>\n",
       "    <tr>\n",
       "      <th>sex</th>\n",
       "      <td>83</td>\n",
       "      <td>4</td>\n",
       "      <td>male</td>\n",
       "      <td>60</td>\n",
       "    </tr>\n",
       "    <tr>\n",
       "      <th>gender</th>\n",
       "      <td>83</td>\n",
       "      <td>2</td>\n",
       "      <td>masculine</td>\n",
       "      <td>66</td>\n",
       "    </tr>\n",
       "    <tr>\n",
       "      <th>homeworld</th>\n",
       "      <td>77</td>\n",
       "      <td>48</td>\n",
       "      <td>Naboo</td>\n",
       "      <td>11</td>\n",
       "    </tr>\n",
       "    <tr>\n",
       "      <th>species</th>\n",
       "      <td>83</td>\n",
       "      <td>37</td>\n",
       "      <td>Human</td>\n",
       "      <td>35</td>\n",
       "    </tr>\n",
       "  </tbody>\n",
       "</table>\n",
       "</div>"
      ],
      "text/plain": [
       "           count unique             top freq\n",
       "name          87     87  Luke Skywalker    1\n",
       "hair_color    82     12            none   37\n",
       "skin_color    87     31            fair   17\n",
       "eye_color     87     15           brown   21\n",
       "sex           83      4            male   60\n",
       "gender        83      2       masculine   66\n",
       "homeworld     77     48           Naboo   11\n",
       "species       83     37           Human   35"
      ]
     },
     "execution_count": 28,
     "metadata": {},
     "output_type": "execute_result"
    }
   ],
   "source": [
    "# 범주형 변수에서 전체적인 수치를 파악할 수 있다.\n",
    "df_copy.describe(include=\"object\").T"
   ]
  },
  {
   "cell_type": "code",
   "execution_count": 38,
   "id": "707e324c",
   "metadata": {},
   "outputs": [
    {
     "name": "stdout",
     "output_type": "stream",
     "text": [
      "name : ['Luke Skywalker' 'C-3PO' 'R2-D2' 'Darth Vader' 'Leia Organa' 'Owen Lars'\n",
      " 'Beru Whitesun lars' 'R5-D4' 'Biggs Darklighter' 'Obi-Wan Kenobi'\n",
      " 'Anakin Skywalker' 'Wilhuff Tarkin' 'Chewbacca' 'Han Solo' 'Greedo'\n",
      " 'Jabba Desilijic Tiure' 'Wedge Antilles' 'Jek Tono Porkins' 'Yoda'\n",
      " 'Palpatine' 'Boba Fett' 'IG-88' 'Bossk' 'Lando Calrissian' 'Lobot'\n",
      " 'Ackbar' 'Mon Mothma' 'Arvel Crynyd' 'Wicket Systri Warrick' 'Nien Nunb'\n",
      " 'Qui-Gon Jinn' 'Nute Gunray' 'Finis Valorum' 'Jar Jar Binks'\n",
      " 'Roos Tarpals' 'Rugor Nass' 'Ric Oli?' 'Watto' 'Sebulba' 'Quarsh Panaka'\n",
      " 'Shmi Skywalker' 'Darth Maul' 'Bib Fortuna' 'Ayla Secura' 'Dud Bolt'\n",
      " 'Gasgano' 'Ben Quadinaros' 'Mace Windu' 'Ki-Adi-Mundi' 'Kit Fisto'\n",
      " 'Eeth Koth' 'Adi Gallia' 'Saesee Tiin' 'Yarael Poof' 'Plo Koon'\n",
      " 'Mas Amedda' 'Gregar Typho' 'Cord?' 'Cliegg Lars' 'Poggle the Lesser'\n",
      " 'Luminara Unduli' 'Barriss Offee' 'Dorm?' 'Dooku' 'Bail Prestor Organa'\n",
      " 'Jango Fett' 'Zam Wesell' 'Dexter Jettster' 'Lama Su' 'Taun We'\n",
      " 'Jocasta Nu' 'Ratts Tyerell' 'R4-P17' 'Wat Tambor' 'San Hill' 'Shaak Ti'\n",
      " 'Grievous' 'Tarfful' 'Raymus Antilles' 'Sly Moore' 'Tion Medon' 'Finn'\n",
      " 'Rey' 'Poe Dameron' 'BB8' 'Captain Phasma' 'Padm? Amidala']\n"
     ]
    }
   ],
   "source": [
    "# 범주형 데이터에서는 어떤 값이 들어 있는지 파악하는 것이 좋다.\n",
    "print(f'name : {df_copy[\"name\"].unique()}')"
   ]
  },
  {
   "cell_type": "code",
   "execution_count": 39,
   "id": "315c9250",
   "metadata": {},
   "outputs": [
    {
     "name": "stdout",
     "output_type": "stream",
     "text": [
      "hair color : ['blond' nan 'none' 'brown' 'brown, grey' 'black' 'auburn, white'\n",
      " 'auburn, grey' 'white' 'grey' 'auburn' 'blonde' 'unknown']\n",
      "skin color : ['fair' 'gold' 'white, blue' 'white' 'light' 'white, red' 'unknown'\n",
      " 'green' 'green-tan, brown' 'pale' 'metal' 'dark' 'brown mottle' 'brown'\n",
      " 'grey' 'mottled green' 'orange' 'blue, grey' 'grey, red' 'red' 'blue'\n",
      " 'grey, green, yellow' 'yellow' 'tan' 'fair, green, yellow' 'grey, blue'\n",
      " 'silver, red' 'green, grey' 'red, blue, white' 'brown, white' 'none']\n",
      "eye color : ['blue' 'yellow' 'red' 'brown' 'blue-gray' 'black' 'orange' 'hazel' 'pink'\n",
      " 'unknown' 'red, blue' 'gold' 'green, yellow' 'white' 'dark']\n"
     ]
    }
   ],
   "source": [
    "print(f'hair color : {df_copy[\"hair_color\"].unique()}')\n",
    "print(f'skin color : {df_copy[\"skin_color\"].unique()}')\n",
    "print(f'eye color : {df_copy[\"eye_color\"].unique()}')"
   ]
  },
  {
   "cell_type": "code",
   "execution_count": 41,
   "id": "199c67e7",
   "metadata": {},
   "outputs": [
    {
     "name": "stdout",
     "output_type": "stream",
     "text": [
      "sex : ['male' 'none' 'female' 'hermaphroditic' nan]\n",
      "gender : ['masculine' 'feminine' nan]\n",
      "homeworld : ['Tatooine' 'Naboo' 'Alderaan' 'Stewjon' 'Eriadu' 'Kashyyyk' 'Corellia'\n",
      " 'Rodia' 'Nal Hutta' 'Bestine IV' nan 'Kamino' 'Trandosha' 'Socorro'\n",
      " 'Bespin' 'Mon Cala' 'Chandrila' 'Endor' 'Sullust' 'Cato Neimoidia'\n",
      " 'Coruscant' 'Toydaria' 'Malastare' 'Dathomir' 'Ryloth' 'Vulpter'\n",
      " 'Troiken' 'Tund' 'Haruun Kal' 'Cerea' 'Glee Anselm' 'Iridonia' 'Iktotch'\n",
      " 'Quermia' 'Dorin' 'Champala' 'Geonosis' 'Mirial' 'Serenno' 'Concord Dawn'\n",
      " 'Zolan' 'Ojom' 'Aleen Minor' 'Skako' 'Muunilinst' 'Shili' 'Kalee'\n",
      " 'Umbara' 'Utapau']\n",
      "species : ['Human' 'Droid' 'Wookiee' 'Rodian' 'Hutt' \"Yoda's species\" 'Trandoshan'\n",
      " 'Mon Calamari' 'Ewok' 'Sullustan' 'Neimodian' 'Gungan' nan 'Toydarian'\n",
      " 'Dug' 'Zabrak' \"Twi'lek\" 'Vulptereen' 'Xexto' 'Toong' 'Cerean' 'Nautolan'\n",
      " 'Tholothian' 'Iktotchi' 'Quermian' 'Kel Dor' 'Chagrian' 'Geonosian'\n",
      " 'Mirialan' 'Clawdite' 'Besalisk' 'Kaminoan' 'Aleena' 'Skakoan' 'Muun'\n",
      " 'Togruta' 'Kaleesh' \"Pau'an\"]\n"
     ]
    }
   ],
   "source": [
    "# 범주가 적은 경우에는 나눠서 그래프로 그려보는 것이 좋다.\n",
    "# gender와 sex를 이용할 예정이다.\n",
    "print(f'sex : {df_copy[\"sex\"].unique()}')\n",
    "print(f'gender : {df_copy[\"gender\"].unique()}')\n",
    "\n",
    "print(f'homeworld : {df_copy[\"homeworld\"].unique()}')\n",
    "print(f'species : {df_copy[\"species\"].unique()}')"
   ]
  },
  {
   "cell_type": "code",
   "execution_count": 57,
   "id": "ca6c5395",
   "metadata": {},
   "outputs": [
    {
     "name": "stdout",
     "output_type": "stream",
     "text": [
      "총 데이터의 개수 : 957\n",
      "총 결측치의 개수 : 105\n",
      "전체 데이터에서의 비율 :  10.97%\n",
      "스타워즈에 등장하는 등장인물 수 : 87\n",
      "스타워즈에 등장하는 종족 수 : 37\n"
     ]
    }
   ],
   "source": [
    "# 데이터의 내용 간단히 정리하기.\n",
    "print(f'총 데이터의 개수 : {df_copy.shape[0]*df_copy.shape[1]}')\n",
    "print(f'총 결측치의 개수 : {df_copy.isnull().sum().sum()}')\n",
    "print(f'전체 데이터에서의 비율 : {((df_copy.isnull().sum().sum()) / (df_copy.shape[0]*df_copy.shape[1])) * 100 : .2f}%')\n",
    "print(f'스타워즈에 등장하는 등장인물 수 : {df_copy[\"name\"].nunique()}')\n",
    "print(f'스타워즈에 등장하는 종족 수 : {df_copy[\"species\"].nunique()}')"
   ]
  },
  {
   "cell_type": "code",
   "execution_count": 62,
   "id": "36cbccd6",
   "metadata": {},
   "outputs": [
    {
     "name": "stdout",
     "output_type": "stream",
     "text": [
      "   ID   name class\n",
      "0   1   Anne   NaN\n",
      "1   2   John     A\n",
      "2   3  Kevin     B\n"
     ]
    }
   ],
   "source": [
    "## nunique 와 count 의 차이점 ##\n",
    "\n",
    "df_sample=pd.DataFrame({\"ID\" : [1, 2, 3],\n",
    "                       \"name\" : [\"Anne\", \"John\", \"Kevin\"],\n",
    "                       \"class\": [np.nan, \"A\", \"B\"]})\n",
    "print(df_sample)"
   ]
  },
  {
   "cell_type": "code",
   "execution_count": 68,
   "id": "62a8cbd5",
   "metadata": {},
   "outputs": [
    {
     "name": "stdout",
     "output_type": "stream",
     "text": [
      "2\n",
      "2\n",
      "3\n"
     ]
    }
   ],
   "source": [
    "print(df_sample[\"class\"].nunique()) # 종류의 개수를 세어준다.\n",
    "print(df_sample[\"class\"].count()) # 모든 개수를 세어준다.\n",
    "print(df_sample[\"class\"].size) # 결측치도 세어준다."
   ]
  },
  {
   "cell_type": "markdown",
   "id": "26a3fbfd",
   "metadata": {},
   "source": [
    "# 3. 질문하기"
   ]
  },
  {
   "cell_type": "markdown",
   "id": "1a5ef995",
   "metadata": {},
   "source": [
    "1. 스타워즈 캐릭터의 성별 비율?\n",
    "2. 성별에 따른 캐릭터의 신장의 분포?\n",
    "3. 가장 무거운 캐릭터와 가장 가벼운 캐릭터?\n",
    "4. 스타워즈 캐릭터의 키와 몸무게의 상관관계 여부?"
   ]
  },
  {
   "cell_type": "markdown",
   "id": "56c86a97",
   "metadata": {},
   "source": [
    "# 4. EDA"
   ]
  },
  {
   "cell_type": "markdown",
   "id": "d2f44b3a",
   "metadata": {},
   "source": [
    "## 4-1. 결측치 제거하기"
   ]
  },
  {
   "cell_type": "markdown",
   "id": "cc690889",
   "metadata": {},
   "source": [
    "결측치 계속 처리해보고, 분석해도 된다. 무조건 결측치 모두 처리를 하고, 분석해야 된다는 마음을 버려도 된다."
   ]
  },
  {
   "cell_type": "code",
   "execution_count": 74,
   "id": "a696322a",
   "metadata": {},
   "outputs": [
    {
     "data": {
      "text/plain": [
       "name          False\n",
       "height         True\n",
       "mass           True\n",
       "hair_color     True\n",
       "skin_color    False\n",
       "eye_color     False\n",
       "birth_year     True\n",
       "sex            True\n",
       "gender         True\n",
       "homeworld      True\n",
       "species        True\n",
       "dtype: bool"
      ]
     },
     "execution_count": 74,
     "metadata": {},
     "output_type": "execute_result"
    }
   ],
   "source": [
    "# null 값이 있는지 없는지 확인하는 방법 : any()\n",
    "df_copy.isnull().any(axis=0)"
   ]
  },
  {
   "cell_type": "code",
   "execution_count": 71,
   "id": "f1e9389d",
   "metadata": {},
   "outputs": [
    {
     "data": {
      "text/plain": [
       "name           0\n",
       "height         6\n",
       "mass          28\n",
       "hair_color     5\n",
       "skin_color     0\n",
       "eye_color      0\n",
       "birth_year    44\n",
       "sex            4\n",
       "gender         4\n",
       "homeworld     10\n",
       "species        4\n",
       "dtype: int64"
      ]
     },
     "execution_count": 71,
     "metadata": {},
     "output_type": "execute_result"
    }
   ],
   "source": [
    "df_copy.isnull().sum()"
   ]
  },
  {
   "cell_type": "code",
   "execution_count": 81,
   "id": "00584ad0",
   "metadata": {},
   "outputs": [],
   "source": [
    "# 머리색, 성별은 우리가 처리하지 않고 그대로 두도록 한다. (처리하는 것이 더 데이터를 더럽히는 일)\n",
    "# 키, 몸무게는 0으로 처리하기.\n",
    "df_copy[\"height\"].fillna(0, inplace=True)\n",
    "df_copy[\"mass\"].fillna(0, inplace=True)"
   ]
  },
  {
   "cell_type": "code",
   "execution_count": 82,
   "id": "39cf0e08",
   "metadata": {},
   "outputs": [
    {
     "data": {
      "text/plain": [
       "name           0\n",
       "height         0\n",
       "mass           0\n",
       "hair_color     5\n",
       "skin_color     0\n",
       "eye_color      0\n",
       "birth_year    44\n",
       "sex            4\n",
       "gender         4\n",
       "homeworld     10\n",
       "species        4\n",
       "dtype: int64"
      ]
     },
     "execution_count": 82,
     "metadata": {},
     "output_type": "execute_result"
    }
   ],
   "source": [
    "df_copy.isnull().sum()"
   ]
  },
  {
   "cell_type": "markdown",
   "id": "28127dcd",
   "metadata": {},
   "source": [
    "## 4-2. 칼럼 값 원하는 단어로 변경하기"
   ]
  },
  {
   "cell_type": "code",
   "execution_count": 101,
   "id": "0737e66b",
   "metadata": {},
   "outputs": [
    {
     "data": {
      "text/html": [
       "<div>\n",
       "<style scoped>\n",
       "    .dataframe tbody tr th:only-of-type {\n",
       "        vertical-align: middle;\n",
       "    }\n",
       "\n",
       "    .dataframe tbody tr th {\n",
       "        vertical-align: top;\n",
       "    }\n",
       "\n",
       "    .dataframe thead th {\n",
       "        text-align: right;\n",
       "    }\n",
       "</style>\n",
       "<table border=\"1\" class=\"dataframe\">\n",
       "  <thead>\n",
       "    <tr style=\"text-align: right;\">\n",
       "      <th></th>\n",
       "      <th>name</th>\n",
       "      <th>height</th>\n",
       "      <th>mass</th>\n",
       "      <th>hair_color</th>\n",
       "      <th>skin_color</th>\n",
       "      <th>eye_color</th>\n",
       "      <th>birth_year</th>\n",
       "      <th>sex</th>\n",
       "      <th>gender</th>\n",
       "      <th>homeworld</th>\n",
       "      <th>species</th>\n",
       "    </tr>\n",
       "  </thead>\n",
       "  <tbody>\n",
       "    <tr>\n",
       "      <th>1</th>\n",
       "      <td>C-3PO</td>\n",
       "      <td>167.0</td>\n",
       "      <td>75.0</td>\n",
       "      <td>NaN</td>\n",
       "      <td>gold</td>\n",
       "      <td>yellow</td>\n",
       "      <td>112.0</td>\n",
       "      <td>none</td>\n",
       "      <td>masculine</td>\n",
       "      <td>Tatooine</td>\n",
       "      <td>Droid</td>\n",
       "    </tr>\n",
       "    <tr>\n",
       "      <th>2</th>\n",
       "      <td>R2-D2</td>\n",
       "      <td>96.0</td>\n",
       "      <td>32.0</td>\n",
       "      <td>NaN</td>\n",
       "      <td>white, blue</td>\n",
       "      <td>red</td>\n",
       "      <td>33.0</td>\n",
       "      <td>none</td>\n",
       "      <td>masculine</td>\n",
       "      <td>Naboo</td>\n",
       "      <td>Droid</td>\n",
       "    </tr>\n",
       "    <tr>\n",
       "      <th>7</th>\n",
       "      <td>R5-D4</td>\n",
       "      <td>97.0</td>\n",
       "      <td>32.0</td>\n",
       "      <td>NaN</td>\n",
       "      <td>white, red</td>\n",
       "      <td>red</td>\n",
       "      <td>NaN</td>\n",
       "      <td>none</td>\n",
       "      <td>masculine</td>\n",
       "      <td>Tatooine</td>\n",
       "      <td>Droid</td>\n",
       "    </tr>\n",
       "    <tr>\n",
       "      <th>21</th>\n",
       "      <td>IG-88</td>\n",
       "      <td>200.0</td>\n",
       "      <td>140.0</td>\n",
       "      <td>none</td>\n",
       "      <td>metal</td>\n",
       "      <td>red</td>\n",
       "      <td>15.0</td>\n",
       "      <td>none</td>\n",
       "      <td>masculine</td>\n",
       "      <td>NaN</td>\n",
       "      <td>Droid</td>\n",
       "    </tr>\n",
       "    <tr>\n",
       "      <th>72</th>\n",
       "      <td>R4-P17</td>\n",
       "      <td>96.0</td>\n",
       "      <td>NaN</td>\n",
       "      <td>none</td>\n",
       "      <td>silver, red</td>\n",
       "      <td>red, blue</td>\n",
       "      <td>NaN</td>\n",
       "      <td>none</td>\n",
       "      <td>feminine</td>\n",
       "      <td>NaN</td>\n",
       "      <td>Droid</td>\n",
       "    </tr>\n",
       "    <tr>\n",
       "      <th>84</th>\n",
       "      <td>BB8</td>\n",
       "      <td>NaN</td>\n",
       "      <td>NaN</td>\n",
       "      <td>none</td>\n",
       "      <td>none</td>\n",
       "      <td>black</td>\n",
       "      <td>NaN</td>\n",
       "      <td>none</td>\n",
       "      <td>masculine</td>\n",
       "      <td>NaN</td>\n",
       "      <td>Droid</td>\n",
       "    </tr>\n",
       "  </tbody>\n",
       "</table>\n",
       "</div>"
      ],
      "text/plain": [
       "      name  height   mass hair_color   skin_color  eye_color  birth_year  \\\n",
       "1    C-3PO   167.0   75.0        NaN         gold     yellow       112.0   \n",
       "2    R2-D2    96.0   32.0        NaN  white, blue        red        33.0   \n",
       "7    R5-D4    97.0   32.0        NaN   white, red        red         NaN   \n",
       "21   IG-88   200.0  140.0       none        metal        red        15.0   \n",
       "72  R4-P17    96.0    NaN       none  silver, red  red, blue         NaN   \n",
       "84     BB8     NaN    NaN       none         none      black         NaN   \n",
       "\n",
       "     sex     gender homeworld species  \n",
       "1   none  masculine  Tatooine   Droid  \n",
       "2   none  masculine     Naboo   Droid  \n",
       "7   none  masculine  Tatooine   Droid  \n",
       "21  none  masculine       NaN   Droid  \n",
       "72  none   feminine       NaN   Droid  \n",
       "84  none  masculine       NaN   Droid  "
      ]
     },
     "execution_count": 101,
     "metadata": {},
     "output_type": "execute_result"
    }
   ],
   "source": [
    "df_copy[df_copy[\"sex\"]==\"none\"] # 값이 있는데 none이라는 값으로 채워짐.\n",
    "# Droid가 성별이 없다. (로봇이기 때문에)"
   ]
  },
  {
   "cell_type": "code",
   "execution_count": 102,
   "id": "2d2f3125",
   "metadata": {},
   "outputs": [],
   "source": [
    "df_copy.loc[df_copy[\"sex\"]==\"none\", \"sex\"]=\"robot\""
   ]
  },
  {
   "cell_type": "code",
   "execution_count": 103,
   "id": "3adb23ff",
   "metadata": {},
   "outputs": [
    {
     "name": "stdout",
     "output_type": "stream",
     "text": [
      "['male' 'robot' 'female' 'hermaphroditic' nan]\n"
     ]
    }
   ],
   "source": [
    "print(df_copy[\"sex\"].unique())"
   ]
  },
  {
   "cell_type": "code",
   "execution_count": 104,
   "id": "973fcc0e",
   "metadata": {},
   "outputs": [
    {
     "data": {
      "text/html": [
       "<div>\n",
       "<style scoped>\n",
       "    .dataframe tbody tr th:only-of-type {\n",
       "        vertical-align: middle;\n",
       "    }\n",
       "\n",
       "    .dataframe tbody tr th {\n",
       "        vertical-align: top;\n",
       "    }\n",
       "\n",
       "    .dataframe thead th {\n",
       "        text-align: right;\n",
       "    }\n",
       "</style>\n",
       "<table border=\"1\" class=\"dataframe\">\n",
       "  <thead>\n",
       "    <tr style=\"text-align: right;\">\n",
       "      <th></th>\n",
       "      <th>name</th>\n",
       "      <th>height</th>\n",
       "      <th>mass</th>\n",
       "      <th>hair_color</th>\n",
       "      <th>skin_color</th>\n",
       "      <th>eye_color</th>\n",
       "      <th>birth_year</th>\n",
       "      <th>sex</th>\n",
       "      <th>gender</th>\n",
       "      <th>homeworld</th>\n",
       "      <th>species</th>\n",
       "    </tr>\n",
       "  </thead>\n",
       "  <tbody>\n",
       "    <tr>\n",
       "      <th>36</th>\n",
       "      <td>Ric Oli?</td>\n",
       "      <td>183.0</td>\n",
       "      <td>NaN</td>\n",
       "      <td>brown</td>\n",
       "      <td>fair</td>\n",
       "      <td>blue</td>\n",
       "      <td>NaN</td>\n",
       "      <td>NaN</td>\n",
       "      <td>NaN</td>\n",
       "      <td>Naboo</td>\n",
       "      <td>NaN</td>\n",
       "    </tr>\n",
       "    <tr>\n",
       "      <th>39</th>\n",
       "      <td>Quarsh Panaka</td>\n",
       "      <td>183.0</td>\n",
       "      <td>NaN</td>\n",
       "      <td>black</td>\n",
       "      <td>dark</td>\n",
       "      <td>brown</td>\n",
       "      <td>62.0</td>\n",
       "      <td>NaN</td>\n",
       "      <td>NaN</td>\n",
       "      <td>Naboo</td>\n",
       "      <td>NaN</td>\n",
       "    </tr>\n",
       "    <tr>\n",
       "      <th>79</th>\n",
       "      <td>Sly Moore</td>\n",
       "      <td>178.0</td>\n",
       "      <td>48.0</td>\n",
       "      <td>none</td>\n",
       "      <td>pale</td>\n",
       "      <td>white</td>\n",
       "      <td>NaN</td>\n",
       "      <td>NaN</td>\n",
       "      <td>NaN</td>\n",
       "      <td>Umbara</td>\n",
       "      <td>NaN</td>\n",
       "    </tr>\n",
       "    <tr>\n",
       "      <th>85</th>\n",
       "      <td>Captain Phasma</td>\n",
       "      <td>NaN</td>\n",
       "      <td>NaN</td>\n",
       "      <td>unknown</td>\n",
       "      <td>unknown</td>\n",
       "      <td>unknown</td>\n",
       "      <td>NaN</td>\n",
       "      <td>NaN</td>\n",
       "      <td>NaN</td>\n",
       "      <td>NaN</td>\n",
       "      <td>NaN</td>\n",
       "    </tr>\n",
       "  </tbody>\n",
       "</table>\n",
       "</div>"
      ],
      "text/plain": [
       "              name  height  mass hair_color skin_color eye_color  birth_year  \\\n",
       "36        Ric Oli?   183.0   NaN      brown       fair      blue         NaN   \n",
       "39   Quarsh Panaka   183.0   NaN      black       dark     brown        62.0   \n",
       "79       Sly Moore   178.0  48.0       none       pale     white         NaN   \n",
       "85  Captain Phasma     NaN   NaN    unknown    unknown   unknown         NaN   \n",
       "\n",
       "    sex gender homeworld species  \n",
       "36  NaN    NaN     Naboo     NaN  \n",
       "39  NaN    NaN     Naboo     NaN  \n",
       "79  NaN    NaN    Umbara     NaN  \n",
       "85  NaN    NaN       NaN     NaN  "
      ]
     },
     "execution_count": 104,
     "metadata": {},
     "output_type": "execute_result"
    }
   ],
   "source": [
    "df_copy[df_copy[\"sex\"].isnull()] # 값 자체가 없다."
   ]
  }
 ],
 "metadata": {
  "kernelspec": {
   "display_name": "Python 3 (ipykernel)",
   "language": "python",
   "name": "python3"
  },
  "language_info": {
   "codemirror_mode": {
    "name": "ipython",
    "version": 3
   },
   "file_extension": ".py",
   "mimetype": "text/x-python",
   "name": "python",
   "nbconvert_exporter": "python",
   "pygments_lexer": "ipython3",
   "version": "3.9.13"
  }
 },
 "nbformat": 4,
 "nbformat_minor": 5
}
